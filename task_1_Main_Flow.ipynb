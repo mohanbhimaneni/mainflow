{
 "cells": [
  {
   "cell_type": "markdown",
   "id": "d1854207-24e2-45fd-b0ed-8bd34aef9825",
   "metadata": {},
   "source": [
    "# Python Datatypes"
   ]
  },
  {
   "cell_type": "markdown",
   "id": "59d6490a-2361-4d4f-8f98-38b90dfe4f67",
   "metadata": {},
   "source": [
    "## List"
   ]
  },
  {
   "cell_type": "markdown",
   "id": "35fa610d-bf13-467f-90b1-a976267cb370",
   "metadata": {},
   "source": [
    "### Creation"
   ]
  },
  {
   "cell_type": "code",
   "execution_count": 1,
   "id": "3a563878-0ee5-4f48-ad97-986b63b55039",
   "metadata": {},
   "outputs": [
    {
     "name": "stdout",
     "output_type": "stream",
     "text": [
      "[1, 2, 3]\n"
     ]
    }
   ],
   "source": [
    "l=[1,2,3]\n",
    "print(l)"
   ]
  },
  {
   "cell_type": "markdown",
   "id": "bb487e74-2fcd-4499-abd1-067d84a561f9",
   "metadata": {},
   "source": [
    "### Insertion"
   ]
  },
  {
   "cell_type": "code",
   "execution_count": 5,
   "id": "9843585d-50c8-43be-b10f-9aacd95238dc",
   "metadata": {},
   "outputs": [
    {
     "name": "stdout",
     "output_type": "stream",
     "text": [
      "[1, 3, 3, 2, 3, 5]\n"
     ]
    }
   ],
   "source": [
    "l.insert(1,3)\n",
    "print(l)"
   ]
  },
  {
   "cell_type": "code",
   "execution_count": 6,
   "id": "65c2ccdc-4106-49f8-bf3f-0cc119ccac00",
   "metadata": {},
   "outputs": [
    {
     "name": "stdout",
     "output_type": "stream",
     "text": [
      "[1, 3, 3, 2, 3, 5, 5]\n"
     ]
    }
   ],
   "source": [
    "l.append(5)\n",
    "print(l)"
   ]
  },
  {
   "cell_type": "markdown",
   "id": "f6ac9286-751f-4bd2-a0b8-155ea0788dca",
   "metadata": {},
   "source": [
    "### Deletion"
   ]
  },
  {
   "cell_type": "code",
   "execution_count": 7,
   "id": "5b6f1b83-1426-4c86-b39c-b2eadc0f1c2c",
   "metadata": {},
   "outputs": [
    {
     "name": "stdout",
     "output_type": "stream",
     "text": [
      "[1, 3, 3, 3, 5, 5]\n"
     ]
    }
   ],
   "source": [
    "l.remove(2)\n",
    "print(l)"
   ]
  },
  {
   "cell_type": "code",
   "execution_count": 8,
   "id": "90325c22-e23c-41e2-923f-7646e4c0838a",
   "metadata": {},
   "outputs": [
    {
     "name": "stdout",
     "output_type": "stream",
     "text": [
      "[1, 3, 3, 5, 5]\n"
     ]
    }
   ],
   "source": [
    "l.remove(3)\n",
    "print(l)"
   ]
  },
  {
   "cell_type": "code",
   "execution_count": 32,
   "id": "103927ba-f53c-4b77-96d9-91f312e7503d",
   "metadata": {},
   "outputs": [
    {
     "name": "stdout",
     "output_type": "stream",
     "text": [
      "[1, 3, 5, 5]\n"
     ]
    }
   ],
   "source": [
    "del l[1]\n",
    "print(l)"
   ]
  },
  {
   "cell_type": "markdown",
   "id": "aff58967-fc5f-46e8-928f-6f37541273b8",
   "metadata": {},
   "source": [
    "## Set"
   ]
  },
  {
   "cell_type": "markdown",
   "id": "322ed615-d4b0-4d6f-b85b-667302376205",
   "metadata": {},
   "source": [
    "### Creation"
   ]
  },
  {
   "cell_type": "code",
   "execution_count": 9,
   "id": "6f43f92c-180f-4104-93a9-07e5d0cebdc2",
   "metadata": {},
   "outputs": [
    {
     "name": "stdout",
     "output_type": "stream",
     "text": [
      "{1, 2, 3}\n"
     ]
    }
   ],
   "source": [
    "set={1,2,3}\n",
    "print(set)"
   ]
  },
  {
   "cell_type": "markdown",
   "id": "98703ccb-5473-4c20-922c-ea02b2c46a1b",
   "metadata": {},
   "source": [
    "### Insertion"
   ]
  },
  {
   "cell_type": "code",
   "execution_count": 11,
   "id": "f8c3fdcd-f227-4b2a-8db4-228aa562dda9",
   "metadata": {},
   "outputs": [
    {
     "name": "stdout",
     "output_type": "stream",
     "text": [
      "{1, 2, 3, 4}\n"
     ]
    }
   ],
   "source": [
    "set.add(4)\n",
    "print(set)"
   ]
  },
  {
   "cell_type": "markdown",
   "id": "fa214190-7c11-4ec2-a96f-0690f9ff8eaa",
   "metadata": {},
   "source": [
    "### Deletion"
   ]
  },
  {
   "cell_type": "code",
   "execution_count": 12,
   "id": "392e18af-bb49-470a-b9af-9af940068359",
   "metadata": {},
   "outputs": [
    {
     "name": "stdout",
     "output_type": "stream",
     "text": [
      "{1, 3, 4}\n"
     ]
    }
   ],
   "source": [
    "set.remove(2)\n",
    "print(set)"
   ]
  },
  {
   "cell_type": "markdown",
   "id": "d62f611a-ec50-4ec1-906d-2848824da8de",
   "metadata": {},
   "source": [
    "## Dictionary"
   ]
  },
  {
   "cell_type": "markdown",
   "id": "c0424384-85eb-49e3-b201-01dcb3e6acef",
   "metadata": {},
   "source": [
    "### Creation"
   ]
  },
  {
   "cell_type": "code",
   "execution_count": 25,
   "id": "a77c9e72-fe85-4172-8249-b077f667688b",
   "metadata": {},
   "outputs": [
    {
     "name": "stdout",
     "output_type": "stream",
     "text": [
      "{'name': 'Lubber', 'age': 25}\n"
     ]
    }
   ],
   "source": [
    "dict1={\n",
    "    \"name\":\"Lubber\",\n",
    "    \"age\":25\n",
    "}\n",
    "print(dict1)"
   ]
  },
  {
   "cell_type": "markdown",
   "id": "a6bf0145-c8f2-4b7b-a48c-5488a844d89e",
   "metadata": {},
   "source": [
    "### Insertion and Updation"
   ]
  },
  {
   "cell_type": "code",
   "execution_count": 26,
   "id": "1881b3e4-ba9d-4164-8aa6-bc0a9fa868a2",
   "metadata": {},
   "outputs": [
    {
     "name": "stdout",
     "output_type": "stream",
     "text": [
      "{'name': 'Lubber', 'age': 25, 'height': 170}\n"
     ]
    }
   ],
   "source": [
    "dict1[\"height\"]=170\n",
    "print(dict1)"
   ]
  },
  {
   "cell_type": "code",
   "execution_count": 27,
   "id": "4b660980-3f76-4206-be50-55179a3fb30b",
   "metadata": {},
   "outputs": [
    {
     "name": "stdout",
     "output_type": "stream",
     "text": [
      "{'name': 'Lubber', 'age': 30, 'height': 170}\n"
     ]
    }
   ],
   "source": [
    "dict1[\"age\"]=30\n",
    "print(dict1)"
   ]
  },
  {
   "cell_type": "code",
   "execution_count": 28,
   "id": "4f6002a6-65cf-4d99-931c-e2d22f756d95",
   "metadata": {},
   "outputs": [
    {
     "name": "stdout",
     "output_type": "stream",
     "text": [
      "{'name': 'Lubber', 'age': 30, 'height': 182}\n"
     ]
    }
   ],
   "source": [
    "dict1.update({\"height\":182})\n",
    "print(dict1)"
   ]
  },
  {
   "cell_type": "markdown",
   "id": "2ae42900-8f53-45fb-87ce-1cb0389ed4b1",
   "metadata": {},
   "source": [
    "### Deletion"
   ]
  },
  {
   "cell_type": "code",
   "execution_count": 29,
   "id": "19713f30-9785-41c4-9865-16dedc400c77",
   "metadata": {},
   "outputs": [
    {
     "name": "stdout",
     "output_type": "stream",
     "text": [
      "{'name': 'Lubber', 'age': 30}\n"
     ]
    }
   ],
   "source": [
    "dict1.pop(\"height\")\n",
    "print(dict1)"
   ]
  },
  {
   "cell_type": "code",
   "execution_count": 30,
   "id": "7aaec4b4-985f-43d7-80ef-19e05ad8aeab",
   "metadata": {},
   "outputs": [
    {
     "name": "stdout",
     "output_type": "stream",
     "text": [
      "{'name': 'Lubber'}\n"
     ]
    }
   ],
   "source": [
    "del dict1[\"age\"]\n",
    "print(dict1)"
   ]
  },
  {
   "cell_type": "code",
   "execution_count": 31,
   "id": "a4c40974-ebb3-477c-b7e8-582c0f772e27",
   "metadata": {},
   "outputs": [
    {
     "ename": "NameError",
     "evalue": "name 'dict1' is not defined",
     "output_type": "error",
     "traceback": [
      "\u001b[1;31m---------------------------------------------------------------------------\u001b[0m",
      "\u001b[1;31mNameError\u001b[0m                                 Traceback (most recent call last)",
      "Cell \u001b[1;32mIn[31], line 2\u001b[0m\n\u001b[0;32m      1\u001b[0m \u001b[38;5;28;01mdel\u001b[39;00m dict1\n\u001b[1;32m----> 2\u001b[0m \u001b[38;5;28mprint\u001b[39m(\u001b[43mdict1\u001b[49m)\n",
      "\u001b[1;31mNameError\u001b[0m: name 'dict1' is not defined"
     ]
    }
   ],
   "source": [
    "del dict1\n",
    "print(dict1)"
   ]
  }
 ],
 "metadata": {
  "kernelspec": {
   "display_name": "Python 3 (ipykernel)",
   "language": "python",
   "name": "python3"
  },
  "language_info": {
   "codemirror_mode": {
    "name": "ipython",
    "version": 3
   },
   "file_extension": ".py",
   "mimetype": "text/x-python",
   "name": "python",
   "nbconvert_exporter": "python",
   "pygments_lexer": "ipython3",
   "version": "3.12.0"
  }
 },
 "nbformat": 4,
 "nbformat_minor": 5
}
